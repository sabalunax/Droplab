{
 "cells": [
  {
   "cell_type": "code",
   "execution_count": 1,
   "id": "fe86f9aa-66f7-4b7f-8908-4832c873f36e",
   "metadata": {},
   "outputs": [],
   "source": [
    "import pandas as pd\n",
    "import numpy as np\n",
    "import matplotlib.pyplot as plt\n",
    "#!pip install openpyxl"
   ]
  },
  {
   "cell_type": "code",
   "execution_count": 2,
   "id": "56db9d42-eb88-4730-83b8-34105dfc8e08",
   "metadata": {},
   "outputs": [
    {
     "data": {
      "text/html": [
       "<div>\n",
       "<style scoped>\n",
       "    .dataframe tbody tr th:only-of-type {\n",
       "        vertical-align: middle;\n",
       "    }\n",
       "\n",
       "    .dataframe tbody tr th {\n",
       "        vertical-align: top;\n",
       "    }\n",
       "\n",
       "    .dataframe thead th {\n",
       "        text-align: right;\n",
       "    }\n",
       "</style>\n",
       "<table border=\"1\" class=\"dataframe\">\n",
       "  <thead>\n",
       "    <tr style=\"text-align: right;\">\n",
       "      <th></th>\n",
       "      <th>Rok</th>\n",
       "      <th>Miesiąc</th>\n",
       "      <th>liczba_biletów_online</th>\n",
       "      <th>liczba_biletów_offline</th>\n",
       "      <th>Rok.1</th>\n",
       "    </tr>\n",
       "  </thead>\n",
       "  <tbody>\n",
       "    <tr>\n",
       "      <th>0</th>\n",
       "      <td>2023</td>\n",
       "      <td>sierpień</td>\n",
       "      <td>801</td>\n",
       "      <td>8534</td>\n",
       "      <td>2023</td>\n",
       "    </tr>\n",
       "    <tr>\n",
       "      <th>1</th>\n",
       "      <td>2023</td>\n",
       "      <td>wrzesień</td>\n",
       "      <td>350</td>\n",
       "      <td>3150</td>\n",
       "      <td>2023</td>\n",
       "    </tr>\n",
       "    <tr>\n",
       "      <th>2</th>\n",
       "      <td>2023</td>\n",
       "      <td>październik</td>\n",
       "      <td>241</td>\n",
       "      <td>2194</td>\n",
       "      <td>2023</td>\n",
       "    </tr>\n",
       "    <tr>\n",
       "      <th>3</th>\n",
       "      <td>2023</td>\n",
       "      <td>listopad</td>\n",
       "      <td>313</td>\n",
       "      <td>2813</td>\n",
       "      <td>2023</td>\n",
       "    </tr>\n",
       "    <tr>\n",
       "      <th>4</th>\n",
       "      <td>2023</td>\n",
       "      <td>grudzień</td>\n",
       "      <td>256</td>\n",
       "      <td>2303</td>\n",
       "      <td>2023</td>\n",
       "    </tr>\n",
       "    <tr>\n",
       "      <th>5</th>\n",
       "      <td>2024</td>\n",
       "      <td>styczeń</td>\n",
       "      <td>475</td>\n",
       "      <td>4275</td>\n",
       "      <td>2024</td>\n",
       "    </tr>\n",
       "    <tr>\n",
       "      <th>6</th>\n",
       "      <td>2024</td>\n",
       "      <td>luty</td>\n",
       "      <td>588</td>\n",
       "      <td>5288</td>\n",
       "      <td>2024</td>\n",
       "    </tr>\n",
       "    <tr>\n",
       "      <th>7</th>\n",
       "      <td>2024</td>\n",
       "      <td>marzec</td>\n",
       "      <td>438</td>\n",
       "      <td>3938</td>\n",
       "      <td>2024</td>\n",
       "    </tr>\n",
       "    <tr>\n",
       "      <th>8</th>\n",
       "      <td>2024</td>\n",
       "      <td>kwiecień</td>\n",
       "      <td>313</td>\n",
       "      <td>2813</td>\n",
       "      <td>2024</td>\n",
       "    </tr>\n",
       "    <tr>\n",
       "      <th>9</th>\n",
       "      <td>2024</td>\n",
       "      <td>maj</td>\n",
       "      <td>769</td>\n",
       "      <td>6919</td>\n",
       "      <td>2024</td>\n",
       "    </tr>\n",
       "    <tr>\n",
       "      <th>10</th>\n",
       "      <td>2024</td>\n",
       "      <td>czerwiec</td>\n",
       "      <td>606</td>\n",
       "      <td>5456</td>\n",
       "      <td>2024</td>\n",
       "    </tr>\n",
       "    <tr>\n",
       "      <th>11</th>\n",
       "      <td>2024</td>\n",
       "      <td>lipiec</td>\n",
       "      <td>938</td>\n",
       "      <td>8438</td>\n",
       "      <td>2024</td>\n",
       "    </tr>\n",
       "    <tr>\n",
       "      <th>12</th>\n",
       "      <td>2024</td>\n",
       "      <td>sierpień</td>\n",
       "      <td>963</td>\n",
       "      <td>8663</td>\n",
       "      <td>2024</td>\n",
       "    </tr>\n",
       "  </tbody>\n",
       "</table>\n",
       "</div>"
      ],
      "text/plain": [
       "     Rok      Miesiąc  liczba_biletów_online  liczba_biletów_offline  Rok.1\n",
       "0   2023     sierpień                    801                    8534   2023\n",
       "1   2023     wrzesień                    350                    3150   2023\n",
       "2   2023  październik                    241                    2194   2023\n",
       "3   2023     listopad                    313                    2813   2023\n",
       "4   2023     grudzień                    256                    2303   2023\n",
       "5   2024      styczeń                    475                    4275   2024\n",
       "6   2024         luty                    588                    5288   2024\n",
       "7   2024       marzec                    438                    3938   2024\n",
       "8   2024     kwiecień                    313                    2813   2024\n",
       "9   2024          maj                    769                    6919   2024\n",
       "10  2024     czerwiec                    606                    5456   2024\n",
       "11  2024       lipiec                    938                    8438   2024\n",
       "12  2024     sierpień                    963                    8663   2024"
      ]
     },
     "execution_count": 2,
     "metadata": {},
     "output_type": "execute_result"
    }
   ],
   "source": [
    "df = pd.read_excel('bilety.xlsx')\n",
    "df"
   ]
  },
  {
   "cell_type": "code",
   "execution_count": 3,
   "id": "edfa8e56-4d81-47e1-a9fb-c1fdc8c03c33",
   "metadata": {},
   "outputs": [],
   "source": [
    "# Usuwam pierwszy wiersz, ponieważ miało być 12 pełnych miesięcy.\n",
    "\n",
    "df.drop( 0, axis = 0, inplace = True)"
   ]
  },
  {
   "cell_type": "code",
   "execution_count": 4,
   "id": "c475bca9-bdcf-45f5-8a52-ee55a646004f",
   "metadata": {},
   "outputs": [
    {
     "data": {
      "text/html": [
       "<div>\n",
       "<style scoped>\n",
       "    .dataframe tbody tr th:only-of-type {\n",
       "        vertical-align: middle;\n",
       "    }\n",
       "\n",
       "    .dataframe tbody tr th {\n",
       "        vertical-align: top;\n",
       "    }\n",
       "\n",
       "    .dataframe thead th {\n",
       "        text-align: right;\n",
       "    }\n",
       "</style>\n",
       "<table border=\"1\" class=\"dataframe\">\n",
       "  <thead>\n",
       "    <tr style=\"text-align: right;\">\n",
       "      <th></th>\n",
       "      <th>Rok</th>\n",
       "      <th>Miesiąc</th>\n",
       "      <th>liczba_biletów_online</th>\n",
       "      <th>liczba_biletów_offline</th>\n",
       "      <th>Rok.1</th>\n",
       "    </tr>\n",
       "  </thead>\n",
       "  <tbody>\n",
       "    <tr>\n",
       "      <th>1</th>\n",
       "      <td>2023</td>\n",
       "      <td>wrzesień</td>\n",
       "      <td>350</td>\n",
       "      <td>3150</td>\n",
       "      <td>2023</td>\n",
       "    </tr>\n",
       "    <tr>\n",
       "      <th>2</th>\n",
       "      <td>2023</td>\n",
       "      <td>październik</td>\n",
       "      <td>241</td>\n",
       "      <td>2194</td>\n",
       "      <td>2023</td>\n",
       "    </tr>\n",
       "    <tr>\n",
       "      <th>3</th>\n",
       "      <td>2023</td>\n",
       "      <td>listopad</td>\n",
       "      <td>313</td>\n",
       "      <td>2813</td>\n",
       "      <td>2023</td>\n",
       "    </tr>\n",
       "    <tr>\n",
       "      <th>4</th>\n",
       "      <td>2023</td>\n",
       "      <td>grudzień</td>\n",
       "      <td>256</td>\n",
       "      <td>2303</td>\n",
       "      <td>2023</td>\n",
       "    </tr>\n",
       "    <tr>\n",
       "      <th>5</th>\n",
       "      <td>2024</td>\n",
       "      <td>styczeń</td>\n",
       "      <td>475</td>\n",
       "      <td>4275</td>\n",
       "      <td>2024</td>\n",
       "    </tr>\n",
       "    <tr>\n",
       "      <th>6</th>\n",
       "      <td>2024</td>\n",
       "      <td>luty</td>\n",
       "      <td>588</td>\n",
       "      <td>5288</td>\n",
       "      <td>2024</td>\n",
       "    </tr>\n",
       "    <tr>\n",
       "      <th>7</th>\n",
       "      <td>2024</td>\n",
       "      <td>marzec</td>\n",
       "      <td>438</td>\n",
       "      <td>3938</td>\n",
       "      <td>2024</td>\n",
       "    </tr>\n",
       "    <tr>\n",
       "      <th>8</th>\n",
       "      <td>2024</td>\n",
       "      <td>kwiecień</td>\n",
       "      <td>313</td>\n",
       "      <td>2813</td>\n",
       "      <td>2024</td>\n",
       "    </tr>\n",
       "    <tr>\n",
       "      <th>9</th>\n",
       "      <td>2024</td>\n",
       "      <td>maj</td>\n",
       "      <td>769</td>\n",
       "      <td>6919</td>\n",
       "      <td>2024</td>\n",
       "    </tr>\n",
       "    <tr>\n",
       "      <th>10</th>\n",
       "      <td>2024</td>\n",
       "      <td>czerwiec</td>\n",
       "      <td>606</td>\n",
       "      <td>5456</td>\n",
       "      <td>2024</td>\n",
       "    </tr>\n",
       "    <tr>\n",
       "      <th>11</th>\n",
       "      <td>2024</td>\n",
       "      <td>lipiec</td>\n",
       "      <td>938</td>\n",
       "      <td>8438</td>\n",
       "      <td>2024</td>\n",
       "    </tr>\n",
       "    <tr>\n",
       "      <th>12</th>\n",
       "      <td>2024</td>\n",
       "      <td>sierpień</td>\n",
       "      <td>963</td>\n",
       "      <td>8663</td>\n",
       "      <td>2024</td>\n",
       "    </tr>\n",
       "  </tbody>\n",
       "</table>\n",
       "</div>"
      ],
      "text/plain": [
       "     Rok      Miesiąc  liczba_biletów_online  liczba_biletów_offline  Rok.1\n",
       "1   2023     wrzesień                    350                    3150   2023\n",
       "2   2023  październik                    241                    2194   2023\n",
       "3   2023     listopad                    313                    2813   2023\n",
       "4   2023     grudzień                    256                    2303   2023\n",
       "5   2024      styczeń                    475                    4275   2024\n",
       "6   2024         luty                    588                    5288   2024\n",
       "7   2024       marzec                    438                    3938   2024\n",
       "8   2024     kwiecień                    313                    2813   2024\n",
       "9   2024          maj                    769                    6919   2024\n",
       "10  2024     czerwiec                    606                    5456   2024\n",
       "11  2024       lipiec                    938                    8438   2024\n",
       "12  2024     sierpień                    963                    8663   2024"
      ]
     },
     "execution_count": 4,
     "metadata": {},
     "output_type": "execute_result"
    }
   ],
   "source": [
    "df"
   ]
  },
  {
   "cell_type": "code",
   "execution_count": 5,
   "id": "d8ee5cfc-fa5a-442d-93a2-b0a1d1d069e6",
   "metadata": {},
   "outputs": [],
   "source": [
    "droplabs_bilety = (df['liczba_biletów_online'].sum() * 0.8 * 80 * 0.025) + (df['liczba_biletów_online'].sum() * 0.2 * 1.1)\n",
    "\n",
    "klient_bilety = (df['liczba_biletów_online'].sum() * 0.8 * 80 * 0.975) + (df['liczba_biletów_online'].sum() * 0.2 * (30-1.1)) + (df['liczba_biletów_offline'].sum() * 0.8 * 80 * 0.975) + (df['liczba_biletów_offline'].sum() * 0.2 * 30)\n",
    "\n",
    "klient_dochod_online = (df['liczba_biletów_online'].sum() * 0.8 * 80 * 0.975) + (df['liczba_biletów_online'].sum() * 0.2 * (30-1.1))"
   ]
  },
  {
   "cell_type": "code",
   "execution_count": 6,
   "id": "5d238652-1fde-437e-ade4-f4b846d01c89",
   "metadata": {},
   "outputs": [],
   "source": [
    "droplabs_abonament = 12 * 8000\n",
    "klient_abonament = 12 * (8000 * 1.23)"
   ]
  },
  {
   "cell_type": "code",
   "execution_count": 7,
   "id": "05702396-7c05-4d80-8246-cf32d45ee514",
   "metadata": {},
   "outputs": [
    {
     "data": {
      "text/plain": [
       "426125.0"
      ]
     },
     "execution_count": 7,
     "metadata": {},
     "output_type": "execute_result"
    }
   ],
   "source": [
    "# PRZYCHÓD KLIENTA Z BILETÓW ONLINE:\n",
    "\n",
    "klient_dochod_online"
   ]
  },
  {
   "cell_type": "code",
   "execution_count": 8,
   "id": "08728bbf-c310-452e-bd4f-adfe3ed68cde",
   "metadata": {},
   "outputs": [
    {
     "data": {
      "text/plain": [
       "4155545.0"
      ]
     },
     "execution_count": 8,
     "metadata": {},
     "output_type": "execute_result"
    }
   ],
   "source": [
    "# PRZYCHÓD CAŁOŚCIOWY:\n",
    "\n",
    "przychod_calosciowy = klient_bilety - klient_abonament\n",
    "\n",
    "przychod_calosciowy"
   ]
  },
  {
   "cell_type": "code",
   "execution_count": 9,
   "id": "9b372246-85e6-4100-a494-770a11917a6d",
   "metadata": {},
   "outputs": [
    {
     "data": {
      "text/plain": [
       "107375.0"
      ]
     },
     "execution_count": 9,
     "metadata": {},
     "output_type": "execute_result"
    }
   ],
   "source": [
    "# ZAPŁACI FIRMIE DROPLABS:\n",
    "\n",
    "droplabs_bilety + droplabs_abonament"
   ]
  },
  {
   "cell_type": "code",
   "execution_count": 10,
   "id": "61560685-8d6b-479b-96bf-de104b4a8bd4",
   "metadata": {},
   "outputs": [
    {
     "data": {
      "image/png": "[encoded data removed]",
      "text/plain": [
       "<Figure size 640x480 with 1 Axes>"
      ]
     },
     "metadata": {},
     "output_type": "display_data"
    }
   ],
   "source": [
    "# UDZIAŁ KLIENTA\n",
    "\n",
    "udzial_biletow_offline = przychod_calosciowy - klient_dochod_online\n",
    "\n",
    "values = [klient_dochod_online, udzial_biletow_offline]\n",
    "labels = ['Udział klienta, ze sprzedaży biletów online', 'Udział klienta ze sprzedaży biletów offline']\n",
    "\n",
    "plt.pie(values, labels=labels, autopct='%1.2f%%', startangle=90)\n",
    "plt.title('Udział całościowy ze sprzedaży biletów online')\n",
    "plt.show()"
   ]
  },
  {
   "cell_type": "code",
   "execution_count": 11,
   "id": "30851e87-8611-4f61-b94e-f70c729195e2",
   "metadata": {},
   "outputs": [
    {
     "data": {
      "text/plain": [
       "3600.000000000002"
      ]
     },
     "execution_count": 11,
     "metadata": {},
     "output_type": "execute_result"
    }
   ],
   "source": [
    "# PODNIESIENIE PROWIZJI ZA BILETY\n",
    "\n",
    "(df['liczba_biletów_online'].sum() * 0.8 * 80 * 0.034 + df['liczba_biletów_online'].sum() * 0.2 * 1.1) - (df['liczba_biletów_online'].sum() * 0.8 * 80 * 0.025 + df['liczba_biletów_online'].sum() * 0.2 * 1.1)"
   ]
  },
  {
   "cell_type": "code",
   "execution_count": null,
   "id": "560a4435-621f-450b-a4da-02c221d797b0",
   "metadata": {},
   "outputs": [],
   "source": []
  }
 ],
 "metadata": {
  "kernelspec": {
   "display_name": "Python 3 (ipykernel)",
   "language": "python",
   "name": "python3"
  },
  "language_info": {
   "codemirror_mode": {
    "name": "ipython",
    "version": 3
   },
   "file_extension": ".py",
   "mimetype": "text/x-python",
   "name": "python",
   "nbconvert_exporter": "python",
   "pygments_lexer": "ipython3",
   "version": "3.11.11"
  }
 },
 "nbformat": 4,
 "nbformat_minor": 5
}
